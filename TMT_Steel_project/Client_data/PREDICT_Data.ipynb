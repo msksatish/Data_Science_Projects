{
 "cells": [
  {
   "cell_type": "markdown",
   "id": "daa0f440",
   "metadata": {},
   "source": [
    "## generating data for prediction\n",
    "import pandas as pd\n",
    "import datetime\n",
    "\n",
    "# Define the start and end dates\n",
    "start_date = datetime.date(2023, 4, 1)\n",
    "end_date = datetime.date(2024, 4, 1)\n",
    "\n",
    "# Initialize lists to store data\n",
    "dates = []\n",
    "t_values = []\n",
    "t_squares = []\n",
    "dia_categories = ['12MM']\n",
    "months = ['April', 'May', 'June', 'July', 'August', 'September', 'October', 'November', 'December', 'January', 'February', 'March']\n",
    "\n",
    "# Initialize a list to store binary values for months\n",
    "months_data = []\n",
    "\n",
    "# Generate data\n",
    "current_date = start_date\n",
    "t = 73\n",
    "while current_date < end_date:\n",
    "    dates.append(current_date.strftime('%d-%m-%y'))\n",
    "    t_values.append(t)\n",
    "    t_squares.append(t ** 2)\n",
    "    \n",
    "    # Generate binary values for each month\n",
    "    binary_values = [1 if month in current_date.strftime('%B') else 0 for month in months]\n",
    "    months_data.extend(binary_values)\n",
    "    \n",
    "    t += 1\n",
    "    current_date += datetime.timedelta(days=30)  # Approximate month length\n",
    "    \n",
    "# Create a DataFrame\n",
    "data1 = {\n",
    "    'Date': dates,\n",
    "    't': t_values,\n",
    "    't_square': t_squares,\n",
    "    'dia': dia_categories * len(dates),  # Repeat the category for each date\n",
    "    **{month: months_data[i::len(months)] for i, month in enumerate(months)}\n",
    "}\n",
    "\n",
    "df2 = pd.DataFrame(data1)\n",
    "\n",
    "# Print the DataFrame\n",
    "print(df2)\n"
   ]
  },
  {
   "cell_type": "markdown",
   "id": "ab07686d",
   "metadata": {},
   "source": [
    "import pandas as pd\n",
    "import numpy as np\n",
    "\n",
    "# Create a DataFrame with random dates spanning a year\n",
    "start_date = '2023-01-01'\n",
    "end_date = '2023-12-31'\n",
    "num_days = 365\n",
    "\n",
    "random_dates = pd.date_range(start=start_date, end=end_date, periods=num_days)\n",
    "df = pd.DataFrame({'Date': random_dates})\n",
    "\n",
    "# Calculate the elapsed months 't'\n",
    "df['t'] = (df['Date'] - pd.to_datetime(start_date)).dt.days // 30 + 1\n",
    "df['t_square'] = df['t'] ** 2\n",
    "\n",
    "# List of all months\n",
    "all_months = ['January', 'February', 'March', 'April', 'May', 'June', \n",
    "              'July', 'August', 'September', 'October', 'November', 'December']\n",
    "\n",
    "# Create binary columns for all months\n",
    "for month in all_months:\n",
    "    df[month] = (df['Date'].dt.month == pd.to_datetime(month, format='%B').month).astype(int)\n",
    "\n",
    "# Print the DataFrame\n",
    "print(df)\n"
   ]
  },
  {
   "cell_type": "markdown",
   "id": "e0b3300e",
   "metadata": {},
   "source": [
    "df.head(50)"
   ]
  },
  {
   "cell_type": "markdown",
   "id": "d8554413",
   "metadata": {},
   "source": [
    "df.to_csv('sampledata.csv', index=False)"
   ]
  },
  {
   "cell_type": "markdown",
   "id": "e0a5e6c6",
   "metadata": {},
   "source": [
    "import pandas as pd\n",
    "\n",
    "# Generate date range for 2024\n",
    "date_range_2024 = pd.date_range(start='2024-01-01', end='2024-12-31', freq='D')\n",
    "\n",
    "# Create a DataFrame for prediction data with an empty \"Quantity\" column\n",
    "prediction_data_2024 = pd.DataFrame({\n",
    "    'Date': date_range_2024,\n",
    "    'Quantity': None  # Leave the \"Quantity\" column empty for predictions\n",
    "})\n",
    "\n",
    "\n",
    "# Save the prediction data to a CSV file\n",
    "prediction_data_2024.to_csv('prediction_data_2024.csv', index=False)\n",
    "\n",
    "print(\"Prediction data for 2024 saved to 'prediction_data_2024.csv'\")\n"
   ]
  },
  {
   "cell_type": "markdown",
   "id": "1639b028",
   "metadata": {},
   "source": [
    "prediction_data_2024"
   ]
  },
  {
   "cell_type": "code",
   "execution_count": 6,
   "id": "e0aabc14",
   "metadata": {},
   "outputs": [
    {
     "name": "stdout",
     "output_type": "stream",
     "text": [
      "Data saved to 'generated_data.csv'\n"
     ]
    }
   ],
   "source": [
    "import pandas as pd\n",
    "import numpy as np\n",
    "\n",
    "# Generate date range\n",
    "dates = pd.date_range(start=\"2024-01-01\", end=\"2024-12-31\")\n",
    "\n",
    "# Generate t values and t_square values starting from 0\n",
    "t_values = np.arange(0, len(dates))\n",
    "t_square_values = t_values ** 2\n",
    "\n",
    "# Generate dia values (12 MM for all days)\n",
    "dia_values = np.array([\"12 MM\"] * len(dates))\n",
    "\n",
    "# Create a DataFrame\n",
    "data = {\n",
    "    \"t\": t_values,\n",
    "    \"t_square\": t_square_values,\n",
    "    \"dia\": dia_values\n",
    "}\n",
    "df = pd.DataFrame(data, index=dates)\n",
    "\n",
    "# Save the DataFrame to a CSV file\n",
    "df.to_csv(\"generated_data.csv\")\n",
    "\n",
    "print(\"Data saved to 'generated_data.csv'\")\n"
   ]
  },
  {
   "cell_type": "code",
   "execution_count": null,
   "id": "7879c8ae",
   "metadata": {},
   "outputs": [],
   "source": []
  }
 ],
 "metadata": {
  "kernelspec": {
   "display_name": "Python 3 (ipykernel)",
   "language": "python",
   "name": "python3"
  },
  "language_info": {
   "codemirror_mode": {
    "name": "ipython",
    "version": 3
   },
   "file_extension": ".py",
   "mimetype": "text/x-python",
   "name": "python",
   "nbconvert_exporter": "python",
   "pygments_lexer": "ipython3",
   "version": "3.10.9"
  }
 },
 "nbformat": 4,
 "nbformat_minor": 5
}
