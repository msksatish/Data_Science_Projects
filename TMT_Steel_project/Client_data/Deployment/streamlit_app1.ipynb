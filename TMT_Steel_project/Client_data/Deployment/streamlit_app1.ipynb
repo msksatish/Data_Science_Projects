{
 "cells": [
  {
   "cell_type": "markdown",
   "id": "57dddf3c",
   "metadata": {},
   "source": [
    "## Deployment"
   ]
  },
  {
   "cell_type": "code",
   "execution_count": null,
   "id": "e29694a1",
   "metadata": {},
   "outputs": [],
   "source": [
    "import streamlit as st\n",
    "import pandas as pd\n",
    "from statsmodels.tsa.arima.model import ARIMA\n",
    "\n",
    "# Load data\n",
    "df = pd.read_csv(r\"C:\\Users\\MsK_PC\\360digiTMG\\Data_Science\\DS_TMT_Steel_Project\\Client_data\\12mm.csv\")\n",
    "df = df.drop(['t', 't_square', 'log_Quantity', 'April', 'August', 'December', 'February', 'January', 'July', 'June', 'March', 'May', 'November', 'October', 'September'], axis=1)\n",
    "\n",
    "# Data Partition\n",
    "Train = df.iloc[:len(df)-365]\n",
    "Test = df.iloc[len(df)-365:]\n",
    "\n",
    "# Train ARIMA model\n",
    "model = ARIMA(Train.Quantity, order=(22, 1, 6))\n",
    "res = model.fit()\n",
    "\n",
    "# Streamlit app\n",
    "st.markdown(\"<h1 style='text-align: center;'>INNODATATICS</h1>\", unsafe_allow_html=True)\n",
    "st.subheader(\"Forecasting Quantity App\")\n",
    "\n",
    "# Date range selection with date input widgets\n",
    "start_date = st.date_input(\"Select Start Date:\", min_value=pd.to_datetime(\"2024-01-01\").date(), max_value=pd.to_datetime(\"2024-12-31\").date(), value=pd.to_datetime(\"2024-01-01\").date())\n",
    "end_date = st.date_input(\"Select End Date:\", min_value=pd.to_datetime(\"2024-01-01\").date(), max_value=pd.to_datetime(\"2024-12-31\").date(), value=pd.to_datetime(\"2024-12-31\").date())\n",
    "\n",
    "# Check if a valid date range is selected\n",
    "if start_date <= end_date:\n",
    "    # Generate forecasted values for the selected date range\n",
    "    forecast_steps = (end_date - start_date).days + 1  # Number of days in the selected date range\n",
    "    forecast_index = pd.date_range(start=start_date, periods=forecast_steps)\n",
    "    forecast = res.get_forecast(steps=forecast_steps, alpha=0.1)  # 90% confidence interval\n",
    "\n",
    "    # Create a DataFrame for forecasts and confidence intervals\n",
    "    forecast_df = pd.DataFrame({\n",
    "        \"Date\": forecast_index,\n",
    "        \"Forecasted_Quantity\": forecast.predicted_mean,\n",
    "        \"Lower_CI\": forecast.conf_int()['lower Quantity'],\n",
    "        \"Upper_CI\": forecast.conf_int()['upper Quantity']\n",
    "    })\n",
    "    forecast_df[\"Date\"] = forecast_df[\"Date\"].dt.strftime(\"%Y-%m-%d\")\n",
    "    forecast_df.set_index(\"Date\", inplace=True)\n",
    "\n",
    "    # Display forecasted values with confidence intervals in a table\n",
    "    st.write(f\"Forecasted Values for the Selected Date Range:\")\n",
    "    st.dataframe(forecast_df)\n",
    "\n",
    "    # Add a download button for the forecasted results\n",
    "    if st.button('Download Forecasted Results'):\n",
    "        # Create a link to download the forecasted results as a CSV file\n",
    "        csv = forecast_df.to_csv(index=False)\n",
    "        st.download_button(\n",
    "            label=\"Download CSV\",\n",
    "            data=csv,\n",
    "            file_name=\"forecasted_results.csv\",\n",
    "            key=\"download-csv\",\n",
    "        )\n",
    "else:\n",
    "    st.warning(\"Please select a valid date range where the Start Date is before or equal to the End Date.\")\n"
   ]
  }
 ],
 "metadata": {
  "kernelspec": {
   "display_name": "Python 3 (ipykernel)",
   "language": "python",
   "name": "python3"
  },
  "language_info": {
   "codemirror_mode": {
    "name": "ipython",
    "version": 3
   },
   "file_extension": ".py",
   "mimetype": "text/x-python",
   "name": "python",
   "nbconvert_exporter": "python",
   "pygments_lexer": "ipython3",
   "version": "3.9.16"
  }
 },
 "nbformat": 4,
 "nbformat_minor": 5
}
