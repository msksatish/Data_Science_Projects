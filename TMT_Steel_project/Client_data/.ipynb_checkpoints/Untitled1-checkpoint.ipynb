{
 "cells": [
  {
   "cell_type": "code",
   "execution_count": null,
   "id": "337db4eb",
   "metadata": {},
   "outputs": [],
   "source": [
    "import streamlit as st\n",
    "import pandas as pd\n",
    "from statsmodels.tsa.arima_model import ARIMA\n",
    "\n",
    "# Load data\n",
    "df = pd.read_csv(r\"C:\\Users\\MsK_PC\\360digiTMG\\Data_Science\\DS_TMT_Steel_Project\\Client_data\\12mm.csv\")\n",
    "df = df.drop(['t', 't_square', 'log_Quantity', 'April', 'August', 'December', 'February', 'January', 'July', 'June', 'March', 'May', 'November', 'October', 'September'], axis=1)\n",
    "\n",
    "# Data Partition\n",
    "Train = df.iloc[:len(df)-365]\n",
    "Test = df.iloc[len(df)-365:]\n",
    "\n",
    "# Train ARIMA model\n",
    "model = ARIMA(Train.Quantity, order=(22, 1, 6))\n",
    "res = model.fit()\n",
    "\n",
    "# Streamlit app\n",
    "st.title(\"ARIMA Model Forecasting\")\n",
    "st.write(\"Summary of ARIMA Model:\")\n",
    "st.text(res.summary())\n",
    "\n",
    "# Display forecasted values\n",
    "forecast_steps = 365\n",
    "forecasts = res.forecast(steps=forecast_steps)\n",
    "\n",
    "st.write(\"Forecasted Values:\")\n",
    "st.line_chart(forecasts)\n"
   ]
  }
 ],
 "metadata": {
  "kernelspec": {
   "display_name": "Python 3 (ipykernel)",
   "language": "python",
   "name": "python3"
  },
  "language_info": {
   "codemirror_mode": {
    "name": "ipython",
    "version": 3
   },
   "file_extension": ".py",
   "mimetype": "text/x-python",
   "name": "python",
   "nbconvert_exporter": "python",
   "pygments_lexer": "ipython3",
   "version": "3.10.9"
  }
 },
 "nbformat": 4,
 "nbformat_minor": 5
}
