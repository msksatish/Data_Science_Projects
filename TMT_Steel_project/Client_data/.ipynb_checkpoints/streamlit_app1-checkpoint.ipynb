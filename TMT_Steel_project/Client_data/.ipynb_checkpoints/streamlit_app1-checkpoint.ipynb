{
 "cells": [
  {
   "cell_type": "markdown",
   "id": "209ecad9",
   "metadata": {},
   "source": [
    "import streamlit as st\n",
    "import pandas as pd\n",
    "from statsmodels.tsa.arima.model import ARIMA  # Note the updated import\n",
    "\n",
    "# Load data\n",
    "df = pd.read_csv(r\"C:\\Users\\MsK_PC\\360digiTMG\\Data_Science\\DS_TMT_Steel_Project\\Client_data\\12mm.csv\")\n",
    "df = df.drop(['t', 't_square', 'log_Quantity', 'April', 'August', 'December', 'February', 'January', 'July', 'June', 'March', 'May', 'November', 'October', 'September'], axis=1)\n",
    "\n",
    "# Data Partition\n",
    "Train = df.iloc[:len(df)-365]\n",
    "Test = df.iloc[len(df)-365:]\n",
    "\n",
    "# Train ARIMA model\n",
    "model = ARIMA(Train.Quantity, order=(22, 1, 6))\n",
    "res = model.fit()\n",
    "\n",
    "# Streamlit app\n",
    "st.title(\"ARIMA Model Forecasting\")\n",
    "st.write(\"Summary of ARIMA Model:\")\n",
    "st.text(res.summary())\n",
    "\n",
    "# Display forecasted values\n",
    "forecast_steps = 365\n",
    "forecasts = res.forecast(steps=forecast_steps)\n",
    "\n",
    "st.write(\"Forecasted Values:\")\n",
    "st.line_chart(forecasts)\n"
   ]
  },
  {
   "cell_type": "code",
   "execution_count": null,
   "id": "21ce84c3",
   "metadata": {},
   "outputs": [],
   "source": [
    "import streamlit as st\n",
    "import pandas as pd\n",
    "from statsmodels.tsa.arima.model import ARIMA\n",
    "\n",
    "# Load data\n",
    "df = pd.read_csv(r\"C:\\Users\\MsK_PC\\360digiTMG\\Data_Science\\DS_TMT_Steel_Project\\Client_data\\12mm.csv\")\n",
    "df = df.drop(['t', 't_square', 'log_Quantity', 'April', 'August', 'December', 'February', 'January', 'July', 'June', 'March', 'May', 'November', 'October', 'September'], axis=1)\n",
    "\n",
    "# Data Partition\n",
    "Train = df.iloc[:len(df)-365]\n",
    "Test = df.iloc[len(df)-365:]\n",
    "\n",
    "# Train ARIMA model\n",
    "model = ARIMA(Train.Quantity, order=(22, 1, 6))\n",
    "res = model.fit()\n",
    "\n",
    "# Streamlit app\n",
    "st.markdown(\"<h1 style='text-align: center;'>INNODATATICS</h1>\", unsafe_allow_html=True)\n",
    "st.subheader(\"Forecasting Quantity App\")\n",
    "#st.write(\"Summary of ARIMA Model:\")\n",
    "#st.text(res.summary())\n",
    "\n",
    "# Generate forecasted values for 2024 (including leap year day)\n",
    "forecast_steps = 366  # 366 days in 2024\n",
    "forecast_index = pd.date_range(start=\"2024-01-01\", end=\"2024-12-31\")\n",
    "forecasts = res.forecast(steps=forecast_steps)\n",
    "\n",
    "# Create a DataFrame for forecasts\n",
    "forecast_df = pd.DataFrame({\"Date\": forecast_index, \"Forecasted_Quantity\": forecasts})\n",
    "forecast_df[\"Date\"] = forecast_df[\"Date\"].dt.strftime(\"%Y-%m-%d\") \n",
    "forecast_df.set_index(\"Date\", inplace=True) \n",
    "\n",
    "# Display forecasted values in a table\n",
    "st.write(\"Forecasted Values for 2024:\")\n",
    "st.dataframe(forecast_df)\n"
   ]
  },
  {
   "cell_type": "code",
   "execution_count": null,
   "id": "e03b6041",
   "metadata": {},
   "outputs": [],
   "source": []
  }
 ],
 "metadata": {
  "kernelspec": {
   "display_name": "Python 3 (ipykernel)",
   "language": "python",
   "name": "python3"
  },
  "language_info": {
   "codemirror_mode": {
    "name": "ipython",
    "version": 3
   },
   "file_extension": ".py",
   "mimetype": "text/x-python",
   "name": "python",
   "nbconvert_exporter": "python",
   "pygments_lexer": "ipython3",
   "version": "3.10.9"
  }
 },
 "nbformat": 4,
 "nbformat_minor": 5
}
