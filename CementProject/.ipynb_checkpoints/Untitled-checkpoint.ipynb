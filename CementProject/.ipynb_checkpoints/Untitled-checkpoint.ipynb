{
 "cells": [
  {
   "cell_type": "code",
   "execution_count": 1,
   "id": "84a845d4",
   "metadata": {},
   "outputs": [],
   "source": [
    "import pandas as pd\n",
    "import random\n",
    "from datetime import datetime, timedelta\n",
    "\n",
    "# Define the number of rows\n",
    "num_rows = 20000\n",
    "\n",
    "# Create a DataFrame with the specified columns and data types\n",
    "data = {\n",
    "    'Timestamp': [datetime(2023, 10, 13, 8, 30) + timedelta(minutes=random.randint(1, 1440)) for _ in range(num_rows)],\n",
    "    'Material Type': [random.choice(['Sand', 'Gravel', 'Cement']) for _ in range(num_rows)],\n",
    "    'Production Rate': [round(random.uniform(10, 100), 1) for _ in range(num_rows)],\n",
    "    'Machine Status': [random.choice([True, False]) for _ in range(num_rows)],\n",
    "    'Downtime Duration': [timedelta(hours=random.randint(1, 12), minutes=random.randint(0, 59)) for _ in range(num_rows)],\n",
    "    'Raw Material Inventory': [round(random.uniform(500, 1500), 1) for _ in range(num_rows)],\n",
    "    'Product Inventory': [round(random.uniform(300, 700), 1) for _ in range(num_rows)],\n",
    "    'Revenue Loss': [round(random.uniform(1000, 10000), 2) for _ in range(num_rows)],\n",
    "    'Demand Forecast': [random.randint(800, 1200) for _ in range(num_rows)],\n",
    "    'Actual Production': [random.randint(700, 1100) for _ in range(num_rows)],\n",
    "    'Reject Rate': [round(random.uniform(2.0, 8.0), 2) for _ in range(num_rows)],\n",
    "    'Maintenance Log': ['Maintenance description ' + str(i) for i in range(num_rows)],\n",
    "    'Employee Productivity': [round(random.uniform(0, 1), 2) for _ in range(num_rows)],\n",
    "    'Energy Consumption': [round(random.uniform(800, 1200), 1) for _ in range(num_rows)],\n",
    "    'Temperature': [round(random.uniform(18, 23), 1) for _ in range(num_rows)],\n",
    "    'Humidity': [random.randint(40, 80) for _ in range(num_rows)],\n",
    "    'Supplier Performance': [random.choice(['Good', 'Fair', 'Poor']) for _ in range(num_rows)],\n",
    "    'Order Fulfillment': [random.randint(80, 100) for _ in range(num_rows)],\n",
    "    'Cost of Raw Materials': [round(random.uniform(8000, 12000), 2) for _ in range(num_rows)],\n",
    "    'Quality Control Alarms': [random.randint(0, 5) for _ in range(num_rows)],\n",
    "    'Quality': [random.choice(['High', 'Medium', 'Low']) for _ in range(num_rows)],\n",
    "}\n",
    "\n",
    "# Create a DataFrame\n",
    "df = pd.DataFrame(data)\n",
    "\n",
    "# Save the DataFrame to a CSV file\n",
    "df.to_csv('sample_data.csv', index=False)\n"
   ]
  },
  {
   "cell_type": "code",
   "execution_count": null,
   "id": "9257cce9",
   "metadata": {},
   "outputs": [],
   "source": []
  }
 ],
 "metadata": {
  "kernelspec": {
   "display_name": "Python 3 (ipykernel)",
   "language": "python",
   "name": "python3"
  },
  "language_info": {
   "codemirror_mode": {
    "name": "ipython",
    "version": 3
   },
   "file_extension": ".py",
   "mimetype": "text/x-python",
   "name": "python",
   "nbconvert_exporter": "python",
   "pygments_lexer": "ipython3",
   "version": "3.10.9"
  }
 },
 "nbformat": 4,
 "nbformat_minor": 5
}
