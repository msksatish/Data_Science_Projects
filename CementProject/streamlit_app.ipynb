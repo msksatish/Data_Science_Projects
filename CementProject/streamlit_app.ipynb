{
 "cells": [
  {
   "cell_type": "code",
   "execution_count": null,
   "id": "d83a87e5",
   "metadata": {},
   "outputs": [],
   "source": [
    "import streamlit as st\n",
    "import pandas as pd\n",
    "import joblib\n",
    "import pickle\n",
    "\n",
    "# Load the machine learning models and preprocessing objects\n",
    "model1 = pickle.load(open('residue.pkl', 'rb'))\n",
    "impute = joblib.load('meanimpute')\n",
    "winsor = joblib.load('winsor')\n",
    "minmax = joblib.load('minmax')\n",
    "encoding = joblib.load('encoding')\n",
    "\n",
    "st.title('Cement Residue Prediction')\n",
    "\n",
    "# Upload a CSV file with input data\n",
    "uploaded_file = st.file_uploader(\"Upload a CSV file\", type=[\"csv\"])\n",
    "\n",
    "if uploaded_file is not None:\n",
    "    data = pd.read_csv(uploaded_file)\n",
    "\n",
    "    # Exclude the \"Residue\" column for predictions\n",
    "    if 'Residue' in data.columns:\n",
    "        data.drop(columns=['Residue'], inplace=True)\n",
    "\n",
    "    # Apply preprocessing steps\n",
    "    data_cleaned = impute.transform(data)\n",
    "    data_cleaned = winsor.transform(data_cleaned)\n",
    "    data_cleaned = minmax.transform(data_cleaned)\n",
    "    data_encoded = encoding.transform(data_cleaned)\n",
    "\n",
    "    # Make predictions using the model\n",
    "    predictions = model1.predict(data_encoded)\n",
    "\n",
    "    # Create a DataFrame with the predictions\n",
    "    result = pd.DataFrame({'Residue': predictions})\n",
    "\n",
    "    # Add the predictions back to the original data\n",
    "    data['Residue'] = result['Residue']\n",
    "\n",
    "    # Display the data frame with predicted values\n",
    "    st.write(data)\n",
    "\n",
    "    # Option to download the data with predicted values as a CSV file\n",
    "    if st.button('Download Data with Predictions'):\n",
    "        data.to_csv('data_with_predictions.csv', index=False)\n"
   ]
  }
 ],
 "metadata": {
  "kernelspec": {
   "display_name": "Python 3 (ipykernel)",
   "language": "python",
   "name": "python3"
  },
  "language_info": {
   "codemirror_mode": {
    "name": "ipython",
    "version": 3
   },
   "file_extension": ".py",
   "mimetype": "text/x-python",
   "name": "python",
   "nbconvert_exporter": "python",
   "pygments_lexer": "ipython3",
   "version": "3.9.16"
  }
 },
 "nbformat": 4,
 "nbformat_minor": 5
}
